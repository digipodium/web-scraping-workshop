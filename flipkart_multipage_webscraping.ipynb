{
  "nbformat": 4,
  "nbformat_minor": 0,
  "metadata": {
    "colab": {
      "name": "flipkart_multipage_webscraping.ipynb",
      "provenance": [],
      "collapsed_sections": [],
      "authorship_tag": "ABX9TyNZ/9jv87AOb29qbThIcdRS",
      "include_colab_link": true
    },
    "kernelspec": {
      "name": "python3",
      "display_name": "Python 3"
    }
  },
  "cells": [
    {
      "cell_type": "markdown",
      "metadata": {
        "id": "view-in-github",
        "colab_type": "text"
      },
      "source": [
        "<a href=\"https://colab.research.google.com/github/digipodium/web-scraping-workshop/blob/main/flipkart_multipage_webscraping.ipynb\" target=\"_parent\"><img src=\"https://colab.research.google.com/assets/colab-badge.svg\" alt=\"Open In Colab\"/></a>"
      ]
    },
    {
      "cell_type": "code",
      "metadata": {
        "id": "whNgEwN_MGxu"
      },
      "source": [
        "import requests\r\n",
        "import pandas as pd\r\n",
        "from bs4 import BeautifulSoup"
      ],
      "execution_count": 1,
      "outputs": []
    },
    {
      "cell_type": "code",
      "metadata": {
        "id": "3nEHwWFnMsgv"
      },
      "source": [
        "query = 'speakers'\r\n",
        "page = 1\r\n",
        "datalist = [] # empty"
      ],
      "execution_count": 28,
      "outputs": []
    },
    {
      "cell_type": "code",
      "metadata": {
        "id": "HIekcEjZNG1r"
      },
      "source": [
        "link = f'https://www.flipkart.com/search?q={query}&page={page}'"
      ],
      "execution_count": 29,
      "outputs": []
    },
    {
      "cell_type": "code",
      "metadata": {
        "id": "l7yIExtGNals"
      },
      "source": [
        "def getpage(link):\r\n",
        "    try:\r\n",
        "        page = requests.get(link)\r\n",
        "        print('data loaded')\r\n",
        "        return BeautifulSoup(page.text,'lxml')\r\n",
        "    except Exception as error:\r\n",
        "        print('Error',error)"
      ],
      "execution_count": 27,
      "outputs": []
    },
    {
      "cell_type": "code",
      "metadata": {
        "id": "n3yDjiY8O0OV"
      },
      "source": [
        "def extract(pagedata):\r\n",
        "    cards =  soup.find_all('div',{'class':'_4ddWXP'})\r\n",
        "    size = len(cards)\r\n",
        "    if size > 0: # if products are found\r\n",
        "        for pr in cards: # pr is single product\r\n",
        "            name = pr.find('a',{'class':'s1Q9rs'}).text\r\n",
        "            price = pr.find('div',{'class':'_30jeq3'}).text[1:] # start from 2 char\r\n",
        "            try: \r\n",
        "                rating = pr.find('div',{'class':'_3LWZlK'}).text\r\n",
        "            except:\r\n",
        "                rating = 0\r\n",
        "            datalist.append({\r\n",
        "                'name':name,\r\n",
        "                'price':price,\r\n",
        "                'rating':rating\r\n",
        "            })\r\n",
        "        return True\r\n",
        "    else:\r\n",
        "        print('no product found')\r\n",
        "        return False\r\n"
      ],
      "execution_count": 36,
      "outputs": []
    },
    {
      "cell_type": "code",
      "metadata": {
        "id": "0yv_8tRWVAr0"
      },
      "source": [
        "def save(filename):\r\n",
        "    df = pd.DataFrame(datalist)\r\n",
        "    df.to_csv(f'{filename}.csv')\r\n",
        "    return df\r\n",
        "    print('saved')"
      ],
      "execution_count": 42,
      "outputs": []
    },
    {
      "cell_type": "markdown",
      "metadata": {
        "id": "uZbto0j_R9ia"
      },
      "source": [
        "testing time"
      ]
    },
    {
      "cell_type": "code",
      "metadata": {
        "id": "zIiTqMlQU2E1"
      },
      "source": [
        "page = 1\r\n",
        "query = 'speakers'\r\n",
        "datalist = [] # empty\r\n",
        "while True:\r\n",
        "    link = f'https://www.flipkart.com/search?q={query}&page={page}'\r\n",
        "    print('extracting data from page :',page)\r\n",
        "    soup = getpage(link)\r\n",
        "    if soup:                                # if we get page data\r\n",
        "        status =  extract(soup)\r\n",
        "        if not status:\r\n",
        "            print('products extracted')\r\n",
        "            break\r\n",
        "        else:\r\n",
        "            page += 1"
      ],
      "execution_count": null,
      "outputs": []
    },
    {
      "cell_type": "code",
      "metadata": {
        "id": "4hDEU8PjYJ-_"
      },
      "source": [
        "out = save('flipkart_speaker_prices')"
      ],
      "execution_count": 43,
      "outputs": []
    },
    {
      "cell_type": "code",
      "metadata": {
        "colab": {
          "base_uri": "https://localhost:8080/",
          "height": 407
        },
        "id": "HUQd3YXrY0AH",
        "outputId": "526b333d-423b-419a-95f2-ddb0d7f73524"
      },
      "source": [
        "out"
      ],
      "execution_count": 44,
      "outputs": [
        {
          "output_type": "execute_result",
          "data": {
            "text/html": [
              "<div>\n",
              "<style scoped>\n",
              "    .dataframe tbody tr th:only-of-type {\n",
              "        vertical-align: middle;\n",
              "    }\n",
              "\n",
              "    .dataframe tbody tr th {\n",
              "        vertical-align: top;\n",
              "    }\n",
              "\n",
              "    .dataframe thead th {\n",
              "        text-align: right;\n",
              "    }\n",
              "</style>\n",
              "<table border=\"1\" class=\"dataframe\">\n",
              "  <thead>\n",
              "    <tr style=\"text-align: right;\">\n",
              "      <th></th>\n",
              "      <th>name</th>\n",
              "      <th>price</th>\n",
              "      <th>rating</th>\n",
              "    </tr>\n",
              "  </thead>\n",
              "  <tbody>\n",
              "    <tr>\n",
              "      <th>0</th>\n",
              "      <td>hoatzin tg-162 high sound speaker with high ba...</td>\n",
              "      <td>404</td>\n",
              "      <td>4</td>\n",
              "    </tr>\n",
              "    <tr>\n",
              "      <th>1</th>\n",
              "      <td>Oxhox FLIP 3D Blast Sound + 10 W IPX7 Waterpro...</td>\n",
              "      <td>369</td>\n",
              "      <td>3.8</td>\n",
              "    </tr>\n",
              "    <tr>\n",
              "      <th>2</th>\n",
              "      <td>boAt AAVANTE BAR 1150 60 W Bluetooth Soundbar</td>\n",
              "      <td>3,998</td>\n",
              "      <td>4.2</td>\n",
              "    </tr>\n",
              "    <tr>\n",
              "      <th>3</th>\n",
              "      <td>boAt Stone 190F 5 W Bluetooth  Speaker</td>\n",
              "      <td>999</td>\n",
              "      <td>4.4</td>\n",
              "    </tr>\n",
              "    <tr>\n",
              "      <th>4</th>\n",
              "      <td>boAt Stone 190F 5 W Bluetooth  Speaker</td>\n",
              "      <td>999</td>\n",
              "      <td>4.4</td>\n",
              "    </tr>\n",
              "    <tr>\n",
              "      <th>...</th>\n",
              "      <td>...</td>\n",
              "      <td>...</td>\n",
              "      <td>...</td>\n",
              "    </tr>\n",
              "    <tr>\n",
              "      <th>715</th>\n",
              "      <td>ALLMUSIC Dj Sound Power boost high sound blast...</td>\n",
              "      <td>799</td>\n",
              "      <td>4.4</td>\n",
              "    </tr>\n",
              "    <tr>\n",
              "      <th>716</th>\n",
              "      <td>Philips SPA5162B/94 65 W Bluetooth Home Theatre</td>\n",
              "      <td>6,599</td>\n",
              "      <td>3.9</td>\n",
              "    </tr>\n",
              "    <tr>\n",
              "      <th>717</th>\n",
              "      <td>Huawei Mini Speaker CM510 3 W Bluetooth  Speaker</td>\n",
              "      <td>999</td>\n",
              "      <td>4.3</td>\n",
              "    </tr>\n",
              "    <tr>\n",
              "      <th>718</th>\n",
              "      <td>Quantum latest qhm630 high sound portable 10 W...</td>\n",
              "      <td>625</td>\n",
              "      <td>3.9</td>\n",
              "    </tr>\n",
              "    <tr>\n",
              "      <th>719</th>\n",
              "      <td>Bingo Touch lamp Light Portable Wireless LED B...</td>\n",
              "      <td>549</td>\n",
              "      <td>3.4</td>\n",
              "    </tr>\n",
              "  </tbody>\n",
              "</table>\n",
              "<p>720 rows × 3 columns</p>\n",
              "</div>"
            ],
            "text/plain": [
              "                                                  name  price rating\n",
              "0    hoatzin tg-162 high sound speaker with high ba...    404      4\n",
              "1    Oxhox FLIP 3D Blast Sound + 10 W IPX7 Waterpro...    369    3.8\n",
              "2        boAt AAVANTE BAR 1150 60 W Bluetooth Soundbar  3,998    4.2\n",
              "3               boAt Stone 190F 5 W Bluetooth  Speaker    999    4.4\n",
              "4               boAt Stone 190F 5 W Bluetooth  Speaker    999    4.4\n",
              "..                                                 ...    ...    ...\n",
              "715  ALLMUSIC Dj Sound Power boost high sound blast...    799    4.4\n",
              "716    Philips SPA5162B/94 65 W Bluetooth Home Theatre  6,599    3.9\n",
              "717   Huawei Mini Speaker CM510 3 W Bluetooth  Speaker    999    4.3\n",
              "718  Quantum latest qhm630 high sound portable 10 W...    625    3.9\n",
              "719  Bingo Touch lamp Light Portable Wireless LED B...    549    3.4\n",
              "\n",
              "[720 rows x 3 columns]"
            ]
          },
          "metadata": {
            "tags": []
          },
          "execution_count": 44
        }
      ]
    },
    {
      "cell_type": "markdown",
      "metadata": {
        "id": "es5UpSLYZEOH"
      },
      "source": [
        "installing plotly"
      ]
    },
    {
      "cell_type": "code",
      "metadata": {
        "id": "NTUOavF2Y0l0"
      },
      "source": [
        "!pip install plotly "
      ],
      "execution_count": null,
      "outputs": []
    },
    {
      "cell_type": "markdown",
      "metadata": {
        "id": "koriSzLzZGZO"
      },
      "source": [
        "visualization"
      ]
    },
    {
      "cell_type": "code",
      "metadata": {
        "id": "9u-_u_k0ZA2b"
      },
      "source": [
        "import plotly.express as px"
      ],
      "execution_count": 46,
      "outputs": []
    },
    {
      "cell_type": "code",
      "metadata": {
        "id": "4_2vWNLvZ3S9"
      },
      "source": [
        "out.rating = out.rating.astype(float) # updating rating values to float"
      ],
      "execution_count": 55,
      "outputs": []
    },
    {
      "cell_type": "code",
      "metadata": {
        "id": "o-8NfCaIaRKa"
      },
      "source": [
        "out.sort_values(by='rating',inplace=True)"
      ],
      "execution_count": 56,
      "outputs": []
    },
    {
      "cell_type": "code",
      "metadata": {
        "colab": {
          "base_uri": "https://localhost:8080/",
          "height": 542
        },
        "id": "uRfmmbTjZLqV",
        "outputId": "fb21543c-f59d-49c9-80a0-55950005d4e4"
      },
      "source": [
        "px.line(out,x='rating',hover_name=out.name)"
      ],
      "execution_count": 58,
      "outputs": [
        {
          "output_type": "display_data",
          "data": {
            "text/html": [
              "<html>\n",
              "<head><meta charset=\"utf-8\" /></head>\n",
              "<body>\n",
              "    <div>\n",
              "            <script src=\"https://cdnjs.cloudflare.com/ajax/libs/mathjax/2.7.5/MathJax.js?config=TeX-AMS-MML_SVG\"></script><script type=\"text/javascript\">if (window.MathJax) {MathJax.Hub.Config({SVG: {font: \"STIX-Web\"}});}</script>\n",
              "                <script type=\"text/javascript\">window.PlotlyConfig = {MathJaxConfig: 'local'};</script>\n",
              "        <script src=\"https://cdn.plot.ly/plotly-latest.min.js\"></script>    \n",
              "            <div id=\"a949db98-587f-4e34-afbd-c80aa668fc4c\" class=\"plotly-graph-div\" style=\"height:525px; width:100%;\"></div>\n",
              "            <script type=\"text/javascript\">\n",
              "                \n",
              "                    window.PLOTLYENV=window.PLOTLYENV || {};\n",
              "                    \n",
              "                if (document.getElementById(\"a949db98-587f-4e34-afbd-c80aa668fc4c\")) {\n",
              "                    Plotly.newPlot(\n",
              "                        'a949db98-587f-4e34-afbd-c80aa668fc4c',\n",
              "                        [{\"hoverlabel\": {\"namelength\": 0}, \"hovertemplate\": \"<b>%{hovertext}</b><br><br>rating=%{x}\", \"hovertext\": [\"OBDIR Portable Bluetooth Speaker Wireless Stereo Bass C...\", \"Intex 2.1 Bang Plus FMUB OS 54 W Bluetooth Home Theatre\", \"sound and safe TG-113 10 W Bluetooth Soundbar\", \"OBDIR Hot Selling J.B.L High Bass Disco Light Wireless ...\", \"Sonilex SL-BS1021FMSL 25 W Bluetooth Laptop/Desktop Spe...\", \"NG Venture boxer 25000 W Bluetooth Tower Speaker\", \"JBL PROFESSIONAL EON612 Two-Way 12\\\" Multipurpose Self-P...\", \"OBDIR LED Touch Lamp Bluetooth Speaker, Wireless HiFi S...\", \"Lehza best top usb microphone speaker 5 W Bluetooth Hom...\", \"RGS Enterprise Latest Offer Portable Bluetooth Rugby MI...\", \"Obage MT-525X 25 W Bluetooth Tower Speaker\", \"OBDIR Top Selling J.B.L Crystal Clear Sound Color Chang...\", \"SULFUR SUPER QUALITY BO.SE Speaker Portable Wireless Wi...\", \"KRISONS Polo 7.1 |App Enabled Smart Home Theater 7.1|Bl...\", \"etmax ZALLWA_0791 100 W Bluetooth Tower Speaker\", \"Lehza YD 668 / FJ 668 WIRELESS BLUETOOTH BASS 5 W Bluet...\", \"Techobucks High Quality YD-668 Portable Splash proof Bl...\", \"OBDIR High Quality Powerful Boom Beat Wireless Speaker ...\", \"OBDIR Top Rating J.B.L Crystal Clear Sound Color Changi...\", \"prv RV1234 5 W Bluetooth  Speaker\", \"Classic CESR 12 INCH SPEAKER SUB WOOFER 120W 120 W Car ...\", \"Blue Birds Stereo Sound Portable Wireless Rechargeable ...\", \"F FERONS 100% good Quality WS-887 Mini Bluetooth Speake...\", \"BIRATTY Wireless LED Bluetooth Speakers S10 Handfree wi...\", \"KARWAN Portable 10 W Bluetooth  Speaker\", \"T-Series M150BT 2.1 Bluetooth Multimedia Speaker System...\", \"life music sound quality best high bass with Ultra boos...\", \"Blue Birds Sound Rock Beat Blasts Top Firing Bass With ...\", \"BIRATTY Portable Wireless Stereo Sound Rechargeable Led...\", \"DRR HI-9500W ( BT 5.1 SPEAKER ) HI BASS SOUND BAR , TOW...\", \"Blue Birds Mini Metal Bluetooth Speaker Handsfree Subwo...\", \"BUY GENUINE Wireless Super Bass Mini Metal Aluminium Al...\", \"Bingo Touch lamp Light Portable Wireless LED Bluetooth ...\", \"Bingo Touch lamp Light Portable Wireless LED Bluetooth ...\", \"Bingo Touch lamp Light Portable Wireless LED Bluetooth ...\", \"Bingo Touch lamp Light Portable Wireless LED Bluetooth ...\", \"Bingo Touch lamp Light Portable Wireless LED Bluetooth ...\", \"Bingo Touch lamp Light Portable Wireless LED Bluetooth ...\", \"Bingo Touch lamp Light Portable Wireless LED Bluetooth ...\", \"Bingo Touch lamp Light Portable Wireless LED Bluetooth ...\", \"Ubon SP-48 Base Hunter WIreless 5.0 bluetooth speaker w...\", \"Bingo Touch lamp Light Portable Wireless LED Bluetooth ...\", \"Ubon SP-48 Base Hunter WIreless 5.0 bluetooth speaker w...\", \"Bingo Touch lamp Light Portable Wireless LED Bluetooth ...\", \"DRR TS- W Bluetooth Tower Speaker (Black, 2.0 Channel) ...\", \"Bingo Touch lamp Light Portable Wireless LED Bluetooth ...\", \"Ant Audio Rock 1000 100 W Bluetooth Home Theatre\", \"Bingo Touch lamp Light Portable Wireless LED Bluetooth ...\", \"IKALL 7.1 Bluetooth Multimedia Home Theater with FM/Pen...\", \"Bingo Touch lamp Light Portable Wireless LED Bluetooth ...\", \"F FERONS Power boost high sound blast with ultra 3d bas...\", \"Bingo Touch lamp Light Portable Wireless LED Bluetooth ...\", \"Ubon SP-48 Base Hunter WIreless 5.0 bluetooth speaker w...\", \"Bingo Touch lamp Light Portable Wireless LED Bluetooth ...\", \"F FERONS 100% Best Quality Bluetooth Portable Super Bas...\", \"Bingo Touch lamp Light Portable Wireless LED Bluetooth ...\", \"Bingo Touch lamp Light Portable Wireless LED Bluetooth ...\", \"Bingo Touch lamp Light Portable Wireless LED Bluetooth ...\", \"Introit Wooden Wireless 10 W Bluetooth  Speaker\", \"9 CORE M-612 High Bass DJ Sound 9500 W Bluetooth Home T...\", \"Envent Musique BT ET-SP41128 Multimedia 20 W Portable B...\", \"TECNIA Atom 702 Bluetooth Home Theatre\", \"Classic Gold Mini Bahubali TS-1008 Bluetooth Tower Spea...\", \"Buy Genuine Outdoor Portable Speakers Splashproof Big P...\", \"Barry John MINI Bahubali with AUX, USB, Bluetooth, FM &...\", \"Techwire LED RGB Bluetooth Speaker Bulb Wireless Music ...\", \"F FERONS Touch Bluetooth Wireless Speaker Light with Sm...\", \"Eduway Tg-117 Black Bluetooth Speaker 5 W Bluetooth  Sp...\", \"psytech mini speaker 10 W Bluetooth  Speaker\", \"Zoook Rocker Thunder Pro 30 W Bluetooth Party Speaker\", \"Drezel Multifunctions Multimedia Bluetooth Mini Tower S...\", \"zorn GT112 10 W Bluetooth  Speaker\", \"9 CORE JUMBO BLACK 143 LIKE SOUND KA BAAP 9500 W Blueto...\", \"I Kall IK201 BT 40 W Bluetooth Laptop/Desktop Speaker\", \"Ubon SP-39 Funky Beats Portable Speaker Powered with 12...\", \"blueseed Wireless Bluetooth Speaker 10 W Bluetooth  Spe...\", \"I Kall Ik-4444 BT 7.1 Speaker Bluetooth Home Theatre\", \"wazny WS887 music speaker , wireless speaker mobile spe...\", \"Hitage Hitage BT-787 Mini Wireless Bluetooth Speaker wi...\", \"KLUZIE 100% Brand New Rich Deep bass stereo 3d Sound Dy...\", \"Oxhox FLIP PRO + 4 20 W IPX7 -Waterproof Bluetooth Spea...\", \"etmax NANO ET-1212 Bluetooth Tower Speaker\", \"wazny WS887 Mini HD Sound Stylish High Bass 3D Stereo 5...\", \"Buy Genuine Boom Box With High Powerful Sound 10 W Blue...\", \"SpadeAces TG 113 Bluetooth Wireless Outdoor Portable US...\", \"wazny WS887 Mini HD Sound Stylish High Bass 3D Stereo 5...\", \"YODNSO Best Buy Power boost high Bass Sound blast with ...\", \"Evolution Kart BT 4 TOWER 56 W Bluetooth Tower Speaker\", \"Welrock TG113 400 W Bluetooth  Speaker\", \"PALCO SOUND SYSTEM M700 10 W Bluetooth  Speaker\", \"Infinity CLUBZ MINI 2.5 W Bluetooth  Speaker\", \"Ubon SP-39 Funky Beats Portable Speaker Powered with 12...\", \"Ant Audio Rock 900 90 W Bluetooth Home Theatre\", \"F FERONS New Offer Dual Horn Dj Sound Power boost high ...\", \"TECNIA Super King Series 5.1 Bluetooth Multimedia Speak...\", \"T GOOD LITE VBM-WS887-20 5 W Bluetooth  Speaker\", \"blutech Wireless Portable Bluetooth Speaker high qualit...\", \"JBZ JB-113 20 W Bluetooth  Speaker\", \"BOREALIS TG 113 Bluetooth Wireless speaker 004 10 W Blu...\", \"IKALL IK-222 Multimedia 5.1 Speaker System with Bluetoo...\", \"JBZ JB-113 10 W Bluetooth  Speaker\", \"Oxhox FLIP PRO + 20 W IPX7 Waterproof Bluetooth Speaker...\", \"wazny Touch Lamp color changing Blutooth Speaker 3 W Bl...\", \"LIFEMUSIC PERFECT PORTABLE ULTRA DYNAMIC LOUD STEREO SO...\", \"Allmusic TG-157 Wireless speaker LED Dual Loudpeakers S...\", \"ALLMUSIC Power Boost High Sound Portable Outdoor Loudsp...\", \"YODNSO POWERPACT STEREO AUDIO LOOK FLASHING LED LIGHT/L...\", \"Zebronics Zeb-Passion 3 W Bluetooth  Speaker\", \"IKALL IK-401 60W Bluetooth Home Theatre System with FM/...\", \"Zoook Rocker Thunder Plus 40 W Bluetooth Party Speaker\", \"Philips SPA5128B/94 40 W Bluetooth Home Theatre\", \"DILURBAN tg113 SPEAKER 10 Bluetooth Speaker 15 W Blueto...\", \"Zebronics Zeb-Sunshine 60 W Bluetooth Home Theatre\", \"DPM Ultra 3d sound blast With rich premium Super deep B...\", \"Zoook Rocker Thunder XXL 70 W Bluetooth Party Speaker\", \"Onix Portable Party Speaker OPS 20 With Wireless Mic 20...\", \"JBZ LED Touch Lamp Different Lighting Modes Wireless 3 ...\", \"Oxhox FLIP PRO + 20 W IPX7 Waterproof Bluetooth Speaker...\", \"DRR HI-9500W ( BT 5.1 SPEAKER ) HI BASS SOUND BAR , TOW...\", \"T GOOD LITE VVN-WS887-4 5 W Bluetooth  Speaker\", \"T-Series M4003BT 4.1 Bluetooth Multimedia Speaker Syste...\", \"PALCO Multimedia Player 10 W Portable Bluetooth Laptop/...\", \"Introit Wooden Wireless 4 W Bluetooth  Speaker\", \"Quantum qhm630 5 W Laptop/Desktop Speaker\", \"YODNSO Best Power boost high sound blast with ultra 3d ...\", \"I Kall K22 40 W Bluetooth Home Theatre\", \"I Kall IK401 BT 60 W Bluetooth Home Theatre\", \"T GOOD LITE XXZ-WS887-3 5 W Bluetooth  Speaker\", \"blutech wireless portable bass 15 W Bluetooth  Speaker\", \"YODNSO Powerpact bass 3d audio heavy bass Wireless Port...\", \"Oxhox FLIP PRO + 20 W IPX7 Waterproof Bluetooth Speaker...\", \"ATOMDREAM VBM-WS887-9 5 W Bluetooth  Speaker\", \"Oxhox FLIP 3D Blast Sound + 10 W IPX7 Waterproof Blueto...\", \"Oxhox FLIP 3D Blast Sound + 10 W IPX7 Waterproof Blueto...\", \"blueseed TG113 10 W Bluetooth  Speaker\", \"Intex 2622 Portable Bluetooth Home Theatre\", \"DILURBAN TG113 Splashproof Wireless 15 W Bluetooth Spea...\", \"Oxhox FLIP 3D Blast Sound + 10 W IPX7 Waterproof Blueto...\", \"Oxhox FLIP 3D Blast Sound + 10 W IPX7 Waterproof Blueto...\", \"Classic Gold CL1008 Bluetooth Tower Speaker (Black) Blu...\", \"Buy Genuine TG162 Portable Wireless Booming Bass And HD...\", \"blue seed TG113 High Quality Portable Bluetooth  Speake...\", \"OUD OD-BT446FM Wooden Bluetooth Wireless Speaker 10 W B...\", \"HelloX DJ Prime Sound J.B.L Speaker Mp3 AUX USB FM Radi...\", \"blueseed TG113 Super Bass Splashproof Wireless Bluetoot...\", \"Oxhox FLIP 3D Blast Sound + 10 W IPX7 Waterproof Blueto...\", \"F FERONS Best Buy Hot Sale Multi function Mini Bluetoot...\", \"Intex IT 2655 60 W Laptop/Desktop Speaker\", \"Oxhox FLIP 3D Blast Sound + 10 W IPX7 Waterproof Blueto...\", \"Oxhox FLIP 3D Blast Sound + 10 W IPX7 Waterproof Blueto...\", \"Oxhox FLIP 3D Blast Sound + 10 W IPX7 Waterproof Blueto...\", \"Oxhox FLIP 3D Blast Sound + 10 W IPX7 Waterproof Blueto...\", \"F FERONS Best Buy Bluetooth Speaker Mini Bluetooth Soun...\", \"Terabyte 2B 1 W Laptop/Desktop Speaker\", \"I Kall IK2222 Bluetooth Home Theatre\", \"Terabyte KUBIXE-02B 1 W Portable Laptop/Desktop Speaker\", \"Wolgite LED Bluetooth speake , Stereo, B!luetooth, FM/T...\", \"wazny \\u00a0Wireless 887 With Extreme Sound 5 W Bluetooth Sp...\", \"DP.LED TG-113 High Bass Power boost Sound Rechargeable ...\", \"wazny Mini Sound Box WS 887 Bluetooth Stereo Quality wi...\", \"Zebronics Zeb -Bt 6860RUCF Bluetooth Home Theatre\", \"Oxhox FLIP 3D Blast Sound + 10 W IPX7 Waterproof Blueto...\", \"DPM TG-113 Mini Bluetooth Portable Home Speaker Compati...\", \"FPX BT speaker 5 W Bluetooth  Speaker\", \"Oxhox FLIP 3D Blast Sound + 10 W IPX7 Waterproof Blueto...\", \"blueseed TG 113 Red Bluetooth Wireless Outdoor Portable...\", \"Rewy TG113 Super Bass Splashproof Wireless Bluetooth Sp...\", \"Ubon SP-6545 Built-in Speaker Phone Function/TF-card Pl...\", \"DILURBAN tg113 Portable Bluetooth Speaker 5 W Bluetooth...\", \"Terabyte KUBIX E-02B 4 W Laptop/Desktop Speaker\", \"Oxhox FLIP 3D Blast Sound + 10 W IPX7 Waterproof Blueto...\", \"KDM TG 113 Water Proof High Sound Speaker 4 W Bluetooth...\", \"TECNIA Atom 704 Bluetooth Home Theatre\", \"Oxhox FLIP 3D Blast Sound + 10 W IPX7 Waterproof Blueto...\", \"TECNIA Atom 504 Bluetooth Home Theatre\", \"Oxhox FLIP 3D Blast Sound + 10 W IPX7 Waterproof Blueto...\", \"iBall Raaga Classic 14 W Laptop/Desktop Speaker\", \"blueseed tg113 SPEAKER 10 Bluetooth Speaker (color Blue...\", \"DINGLOT MINI WS \\u2013 887 Bluetooth Speaker 5 W Bluetooth G...\", \"wazny Splashproof Portable Boat.able Wireless J2+ B!l!u...\", \"PaxMore Super Bass Splashproof Wireless Bluetooth Speak...\", \"Zebronics ZEB-PLUTO 5 W Laptop/Desktop Speaker\", \"Oxhox FLIP 3D Blast Sound + 10 W IPX7 Waterproof Blueto...\", \"TECNIA Atom 701 Bluetooth Home Theatre\", \"Oxhox FLIP 3D Blast Sound + 10 W IPX7 Waterproof Blueto...\", \"JBZ MegaBass-113 300 W Bluetooth  Speaker\", \"Oxhox FLIP 3D Blast Sound + 10 W IPX7 Waterproof Blueto...\", \"F FERONS Super Bass Splashproof Wireless Bluetooth Spea...\", \"ATARC G-113 Premium Shockproof & Bluetooth Speaker C1 1...\", \"Intex IT-2616 Multimedia 55 W Portable Home Theatre\", \"Impex Lyric 5.1 70 W Bluetooth Smart Speaker\", \"Oxhox FLIP 3D Blast Sound + 10 W IPX7 Waterproof Blueto...\", \"Oxhox FLIP 3D Blast Sound + 10 W IPX7 Waterproof Blueto...\", \"F FERONS 100% good Quality WS-887 Mini Bluetooth Speake...\", \"Panasonic SC-HT32GW-K 80 W Bluetooth Home Theatre\", \"Oxhox FLIP 3D Blast Sound + 10 W IPX7 Waterproof Blueto...\", \"Oxhox FLIP 3D Blast Sound + 10 W IPX7 Waterproof Blueto...\", \"I Kall IK- 666 Bluetooth 80 W Bluetooth Home Theatre\", \"Bencley LED TOWER 70 W Bluetooth Tower Speaker\", \"Oxhox FLIP 3D Blast Sound + 10 W IPX7 Waterproof Blueto...\", \"KRISONS (ETERNITY) 4.1 BLUETOOTH MULTIMEDIA SPEAKER FOR...\", \"iGear Rockstar Bluetooth Party Speaker with Karaoke Mic...\", \"Ubon GSP-100A 6 W Mobile/Tablet Speaker\", \"F FERONS TG-162 Party Light With High Powerful Sound Qu...\", \"T-Series M150BT 2.1 Multimedia Bluetooth Speaker System...\", \"Philips SPA5162B/94 65 W Bluetooth Home Theatre\", \"Quantum latest qhm630 high sound portable 10 W Laptop/D...\", \"Ubon GSP-100A 6 W Mobile/Tablet Speaker\", \"hoatzin TG113 Super Bass Splashproof Wireless 5 W Bluet...\", \"hoatzin TG113 Super Bass Splashproof Wireless 5 W Bluet...\", \"hoatzin tg122 Super Bass Splashproof Wireless 10 W Blue...\", \"hoatzin TG113 Super Bass Splashproof Wireless 5 W Bluet...\", \"Philips SPA5162/94 60 W Bluetooth Home Theatre\", \"Oxhox MEGA BASS Stereo SoundDrum With FM 10 W Bluetooth...\", \"NZ LATEST BEST QUALITY QHM636 Laptop/Desktop Speaker\", \"SULFUR Top Sale J.B.L Exclusive Portable Wireless Sound...\", \"Zebronics ZEB-FEEL 4 60 W Bluetooth Home Theatre\", \"WEBSTER KLUZIE POWERED 10 W Bluetooth  Speaker\", \"Czech dynamic sound with deep 3d bass & powerful rockin...\", \"hoatzin TG113 Super Bass Splashproof Wireless 5 W Bluet...\", \"Impex Party Speaker with Trolley 25 W Bluetooth Home Th...\", \"Buy Genuine TG-113 Mini Bluetooth Portable Home Speaker...\", \"DPM VBM- WS887 5 W Bluetooth Speaker Mini Bluetooth Por...\", \"Zebronics SW3491 RUCF Home Theatre\", \"hoatzin TG113 Super Bass Splashproof Wireless 5 W Bluet...\", \"Kluzie Deep Rich bass stereo Powerful 3D Extra Bass 10 ...\", \"zorn Ultra 3d sound blast With rich premium Super deep ...\", \"Quantum QHM636 6 W Portable Laptop/Desktop Speaker\", \"WEBSTER RANDOM COLOR KLUZIE POWERED 10 W Bluetooth  Spe...\", \"Infinity (JBL) Fuze 99 IPX7 Waterproof 4.5 W Bluetooth ...\", \"hoatzin tg113 splashproof high sound bluetooth speaker ...\", \"webster New Arrival Ultra 3d sound KLUZIE KLZ-113 With ...\", \"Ratez tg113 SPEAKER 10 Bluetooth Speaker (black colour ...\", \"boAt Stone 160 5 W Bluetooth  Speaker\", \"Ubon GSP-100A 6 W Mobile/Tablet Speaker\", \"Ubon GSP-100A 6 W Mobile/Tablet Speaker\", \"Ubon GSP-100A 6 W Mobile/Tablet Speaker\", \"Zytel Edge 5.1 Bluetooth Home Theatre\", \"hoatzin TG113 Super Bass Splashproof Wireless 5 W Bluet...\", \"hoatzin tg113 splashproof high sound bluetooth speaker ...\", \"Philips BT6620B/94 20 W Bluetooth  Speaker\", \"UPROKT Bluetooth Light Bulb speaker Smart Bulb 12 W Blu...\", \"T-Series TR-S8B Professional Audio Mobile Amplifier & P...\", \"Gizmore GIZ SURROUND 5150 50 W Bluetooth Home Theatre\", \"hoatzin TG113 Super Bass Splashproof Wireless 5 W Bluet...\", \"YODNSO Rich bass stereo 3d audio LOOK 10.55 W Bluetooth...\", \"T GOOD LITE VVN-WS887-10 5 W Bluetooth  Speaker\", \"hoatzin tg113 splashproof high sound bluetooth speaker ...\", \"hoatzin tg113 splashproof high sound bluetooth speaker ...\", \"Clavier Pluto Portable Bluetooth Speaker, 10 W Bluetoot...\", \"ALLMUSIC Best Buy Ultra DJ sound blast With Super deep ...\", \"Infinity (JBL) Fuze 99 IPX7 Waterproof 4.5 W Bluetooth ...\", \"F FERONS 100% wireless |Colur changing disco light| Spl...\", \"Ubon GSP-100A 6 W Mobile/Tablet Speaker\", \"hoatzin tg113 bluetooth 5 W Bluetooth  Speaker\", \"Terabyte TB 015 Laptop/Desktop Speaker\", \"Ubon GSP-100A 6 W Mobile/Tablet Speaker\", \"Terabyte TB-TB-008T 4 W Portable Laptop/Desktop Speaker\", \"borealis TG113 Portable & Waterproof Wireless Bluetooth...\", \"hoatzin TG113 Super Bass Splashproof Wireless 5 W Bluet...\", \"hoatzin TG113 Super Bass Splashproof Wireless 5 W Bluet...\", \"iBall Musi Barrel 12 W Bluetooth  Speaker\", \"Oxhox MEGA BASS Stereo SoundDrum With FM 10 W Bluetooth...\", \"Oxhox MGA BASS Stereo SoundDrum With FM 10 W Bluetooth ...\", \"Terabyte KUBIX 2W Speakers 2 W Laptop/Desktop Speaker\", \"F FERONS 100% wireless |Colur changing disco light| Spl...\", \"KRISONS (POLO) 4.1 BLUETOOTH MULTIMEDIA SPEAKER FOR HOM...\", \"KRISONS 2.1 Nexon Bluetooth Laptop/Desktop Speaker\", \"zorn Ultra 3d sound blast With rich premium Super deep ...\", \"Terabyte 015 1 Laptop/Desktop Speaker\", \"Zebronics ZEB-BT 6590 RUCF 65 W Bluetooth Home Theatre\", \"hoatzin TG113 Super Bass Splashproof Wireless 5 W Bluet...\", \"Ubon GSP-100A 6 W Mobile/Tablet Speaker\", \"WEBSTER High Bass Power boost Sound Rechargeable Multim...\", \"Classic CESR-COP-6605M TOWER 1st 600 W Bluetooth Tower ...\", \"KRISONS Redblast 5.1 Bluetooth Home Theatre\", \"Classic CESR-CUBE6038NS 4515 W Bluetooth PA Speaker\", \"Philips BT6620R/94 20 W Bluetooth  Speaker\", \"Ubon GSP-100A 6 W Mobile/Tablet Speaker\", \"MarQ by Flipkart with HDMI Arc 160 W Bluetooth Home The...\", \"hoatzin TG113 Super Bass Splashproof Wireless 5 W Bluet...\", \"ALLMUSIC Top Selling Ultra High Bass Sound Subwoofer Re...\", \"Ubon GSP-100A 6 W Mobile/Tablet Speaker\", \"hoatzin TG113 Super Bass Splashproof Wireless 5 W Bluet...\", \"hoatzin TG113 Super Bass Splashproof Wireless 5 W Bluet...\", \"Ubon GSP-100A 6 W Mobile/Tablet Speaker\", \"Oxhox MEGA BASS Stereo Sound Drum With FM 10 W Bluetoot...\", \"KARWAN Portable 10 W Bluetooth  Speaker\", \"TECNIA Atom 507 5.1 Bluetooth Home Theatre\", \"Intex 4.1XM JAZZ SUFB 85 W Bluetooth Home Theatre\", \"Oxhox v 5.1 Bluetooth BASS Stereo Sound Drum With FM 10...\", \"F FERONS TG-162 Party Light With Powerful Sound Quality...\", \"Ratez tg113 SPEAKER Bluetooth Speaker (red , 4.1 Channe...\", \"Ubon GSP-100A 6 W Mobile/Tablet Speaker\", \"WEBSTER Kluzie klz-113 10 W Bluetooth  Speaker\", \"hoatzin TG113 Super Bass Splashproof Wireless 5 W Bluet...\", \"T GOOD LITE VVN-WS887-10 5 W Bluetooth  Speaker\", \"hoatzin Bluetooth Speaker Bulb Wireless Music Playing L...\", \"Infinity CLUBZ MINI 2.5 W Bluetooth  Speaker\", \"Terabyte TB-TB-008T 4 W Portable Laptop/Desktop Speaker\", \"Zoook ZB-ROCKER THUNDER 20 W Bluetooth Party Speaker\", \"hoatzin tg 112 Super Bass Splashproof Wireless 10 W Blu...\", \"iBall Thunder 2.1 40 W Bluetooth Home Theatre\", \"hoatzin TG113 Super Bass Splashproof Wireless 5 W Bluet...\", \"Terabyte TB 015 Laptop/Desktop Speaker\", \"Ubon GSP-100A 6 W Mobile/Tablet Speaker\", \"hoatzin tg113 splashproof high sound bluetooth speaker ...\", \"hoatzin tg113 splashproof high sound bluetooth speaker ...\", \"hoatzin tg 112 Super Bass Splashproof Wireless 10 W Blu...\", \"YODNSO TG 113 Bluetooth Outdoor Speaker Waterproof Port...\", \"hoatzin tg113 splashproof 5w high bass bluetooth speake...\", \"iBall Musi Cube X1 3 W Bluetooth  Speaker\", \"J&B RANDOM COLOR TG 113 BEST PRO SPEAKER WITH DJ POWER ...\", \"hoatzin tg113 splashproof 5w high bass bluetooth speake...\", \"SULFUR Best Quality BO_AT speaker Ultra Design Wireless...\", \"hoatzin tg-162 high sound speaker with high bass splash...\", \"i Ball Thunder 4.1 Multimedia Speaker with Bluetooth & ...\", \"onshopie TG-113 ULTRA BASS HIGH QUALITY HIGH SOUND SPEA...\", \"Iball Booster 5.1 Bluetooth Home Theatre\", \"hoatzin tg-162 high sound speaker with high bass splash...\", \"Thomson BBX- 01 Youth Machine 10 W Bluetooth Party Spea...\", \"hoatzin tg-162 high sound speaker with high bass splash...\", \"Zebronics Zeb-County Bluetooth Speaker with Built-in FM...\", \"iBall Musi Cube X1 3 W Bluetooth  Speaker\", \"iBall Musi Cube X1 3 W Bluetooth  Speaker\", \"hoatzin tg-162 high sound speaker with high bass splash...\", \"wazny WAZNY Portable Bluetooth Boat able Portable J2+Bl...\", \"Motorola AmphisoundX with HDMI Arc 80 W Bluetooth Home ...\", \"hoatzin tg113 splashproof 5w high bass bluetooth speake...\", \"hoatzin tg-162 high sound speaker with high bass splash...\", \"Alishark New arrival Best Buy power-blast Rock beat 3d ...\", \"hoatzin tg113 splashproof 5w high bass bluetooth speake...\", \"FPX Heatz Solid Built Bluetooth Speaker | 1800mAh Batte...\", \"hoatzin tg-162 high sound speaker with high bass splash...\", \"hoatzin tg113 splashproof 5w high bass bluetooth speake...\", \"T-Series Blast 12500X Multimedia Tower Speakers System ...\", \"CELESTECH CTXM6 Wooden Wireless Speaker with Mic 3 W Bl...\", \"T-Series TR-S6 Portable Wireless Bluetooth Speaker with...\", \"iBall Musi Cube X1 3 W Bluetooth  Speaker\", \"hoatzin tg-162 high sound speaker with high bass splash...\", \"Thomson SBW20 100 W Bluetooth Soundbar\", \"hoatzin tg113 splashproof 5w high bass bluetooth speake...\", \"Eccellente HT152 30 W Bluetooth Home Theatre\", \"Zebronics ZEB Sw2492 Rucf Laptop/Desktop Speaker\", \"Impex RHYTHM B 45 W Bluetooth Home Theatre\", \"KDM TG-112 Bluetooth Speaker Portable Outdoor Rechargea...\", \"xech Pen Stand with Bluetooth Speaker Bluetooth Laptop/...\", \"BjOrk GOOD QULILTY sound with MI-VI SUPERB TG-113 SPEAK...\", \"Buy Genuine Wireless Speaker LED Flame Lamp Fire Effect...\", \"hoatzin tg-162 high sound speaker with high bass splash...\", \"T-Series BLAST-9999X 60 W Bluetooth Tower Speaker\", \"hoatzin tg-162 high sound speaker with high bass splash...\", \"Gizmore GIZ SQUAD 4150 30 W Bluetooth Home Theatre\", \"hoatzin tg113 splashproof 5w high bass bluetooth speake...\", \"Infinity (JBL) Fuze 200 IPX7 Waterproof 15 W Bluetooth ...\", \"Zebronics ZEB-ACTION 10 W Bluetooth  Speaker\", \"hoatzin tg-162 high sound speaker with high bass splash...\", \"hoatzin tg162 high sound bluetooth speaker with bass ra...\", \"Impex OPERA 45 W Bluetooth Home Theatre\", \"F FERONS Power boost high sound blast with ultra 3d bas...\", \"hoatzin tg113 splashproof 5w high bass bluetooth speake...\", \"Zebronics Zeb-Action 10 W Bluetooth  Speaker\", \"PHOLOR charge2+ portable 20 Bluetooth Speaker 10 W Blue...\", \"Hemdec Bottle Shaped Wireless Speaker Portable 10 W Blu...\", \"hoatzin tg-162 high sound speaker with high bass splash...\", \"Terabyte TB-BT-350 BERLIN 10 W Bluetooth  Speaker\", \"KLUZIE Portable Wireless J.B//L Recghargeable DJ Speake...\", \"hoatzin tg-162 high sound speaker with high bass splash...\", \"YODNSO Best Buy Portable Wireless Rechargeable Deep Ric...\", \"F FERONS 100% Best Quality Top Selling J.B.L Portable R...\", \"F FERONS Wireless Rechargeable Brand New Top Selling Po...\", \"hoatzin TG162 Super Bass Splashproof Wireless 5 W Bluet...\", \"TAOS TS701 SUPER BASS SOUND BAR 10 W Bluetooth Soundbar\", \"Hemdec Bottle Shaped Portable Bluetooth Speaker Wireles...\", \"hoatzin tg-162 high sound speaker with high bass splash...\", \"Ubon SP-6810 Minitone Portable Bluetooth Speaker 5 W Bl...\", \"Huntindia TG 113 15 W Bluetooth  Speaker\", \"hoatzin tg113 splashproof 5w high bass bluetooth speake...\", \"Quantum qhm630 10 W Laptop/Desktop Speaker\", \"hoatzin tg113 splashproof 5w high bass bluetooth speake...\", \"hoatzin tg-162 high sound speaker with high bass splash...\", \"hoatzin tg-162 high sound speaker with high bass splash...\", \"F FERONS New Arrival Ultra DJ sound blast With Super de...\", \"RUNEECH BLUETOOTHMUSIC-BULB 12 W Bluetooth  Speaker\", \"F FERONS Portable Bluetooth Speaker Wireless Waterproof...\", \"hoatzin tg113 splashproof 5w high bass bluetooth speake...\", \"F FERONS New Arrival high boost sound Power pact blast ...\", \"hoatzin tg113 splashproof 5w high bass bluetooth speake...\", \"ALLMUSIC BEST SOUND QUAILITY 2019 SUPERIOR QUALITY SOUN...\", \"hoatzin tg-162 high sound speaker with high bass splash...\", \"hoatzin tg113 splashproof 5w high bass bluetooth speake...\", \"Zebronics Zeb-Action 10 W Bluetooth  Speaker\", \"hoatzin tg-162 high sound speaker with high bass splash...\", \"Hemdec Bottle Shaped Portable Wireless Bluetooth Speake...\", \"Quantum QHM630 USB MINI SPEAKER Red Laptop/Desktop Spea...\", \"hoatzin tg-162 high sound speaker with high bass splash...\", \"hoatzin tg113 splashproof 5w high bass bluetooth speake...\", \"wazny Mini Sound Box WS 887 Bluetooth Stereo Quality wi...\", \"Classic CESR-25000CL APEX TOWER 1st 500 W Bluetooth Tow...\", \"Zebronics ZEB-FAME 5 W Laptop/Desktop Speaker\", \"Ubon SP-6580 10 W Bluetooth  Speaker\", \"Philips MMS2625B/94 38 W & 31 Bluetooth Home Theatre\", \"YODNSO Bluetooth Speaker Portable Wireless Subwoofer Lo...\", \"HOPESTAR P21 High bass wireless 24 W Bluetooth  Speaker\", \"LG SJ3 300 W Wireless Dolby Bluetooth Soundbar\", \"JBL Moviebar 80 Dolby Digital 110 W Bluetooth Soundbar\", \"Sony MHC-PG10 with build in Battery Bluetooth Party Spe...\", \"Ubon SP-6580 10 W Bluetooth  Speaker\", \"Zebronics Super Bazooka Wireless Bluetooth  Speaker\", \"Tecno Square S1 35 W Bluetooth  Speaker\", \"Samsung HW-T42E/XL Dolby Digital 150 W Bluetooth Soundb...\", \"JBL Moviebar 100 Dolby Digital With Wireless Subwoofer ...\", \"Sony SRS-XB23 Bluetooth  Speaker\", \"T-Series TR1010 80W Trolley Speaker Portable Wireless B...\", \"Alishark Design Ultra bass Wireless Bluetooth Speaker 1...\", \"HPYP HUB Wireless Portable Bluetooth Mobile Speaker 15 ...\", \"Ubon SP-6580 10 W Bluetooth  Speaker\", \"MarQ by Flipkart MA80W51 80 W Bluetooth Home Theatre\", \"Ubon SP-6580 10 W Bluetooth  Speaker\", \"Matata MTMI16L 60 W Bluetooth Party Speaker\", \"Zebronics Zeb-County 3 W Bluetooth  Speaker\", \"Ubon SP-6580 10 W Bluetooth  Speaker\", \"Amkette Trubeats BoomerFX Plus 12 W Portable Bluetooth ...\", \"F FERONS Brand New Splashproof| Water resistant| Deep B...\", \"Google Nest Mini with Smitch WiFi RGB Smart Bulb 10W Bl...\", \"Philips HTL1041 40 W Bluetooth Soundbar with Subwoofer\", \"Amkette Boomer Compact 10 W Bluetooth Soundbar\", \"Motorola AmphisoundX with HDMI Arc 150 W Bluetooth Home...\", \"Portronics POR-698 Breeze II 20 W Bluetooth  Speaker\", \"boAt Aavante Bar 3100D 260 W Bluetooth Soundbar\", \"F&D F 700X 80 W Bluetooth Home Theatre\", \"wazny Like Dj Sound Power boost high sound blast with u...\", \"Ubon SP-6580 10 W Bluetooth  Speaker\", \"Portronics POR-699 Breeze II 20 W Bluetooth  Speaker\", \"HPYP HUB Wireless Portable Bluetooth Mobile Speaker 15 ...\", \"Zebronics Pebble2 Laptop/Desktop Speaker\", \"Motorola AmphisoundX Convertible Soundbar 70 W Bluetoot...\", \"Philips SPA8140B/94 38 W Bluetooth Home Theatre\", \"Zebronics ZEB-S999 10 W Laptop/Desktop Speaker\", \"Ant Audio ROCK 150 15 W Bluetooth Party Speaker\", \"ALISHARK 2020 EDITION TG-113 SPLASH PROOF WOOFER DUAL H...\", \"Zebronics \\u00a0Zeb-County Bluetooth Speaker with Built-in F...\", \"wazny ,MEGABASS J9+BL!UETOOTH 12 W Bluetooth  Speaker\", \"Zebronics \\u00a0Zeb-County Bluetooth Speaker with Built-in F...\", \"JBL Bar Studio Bluetooth Soundbar\", \"Zebronics ZEB-COUNTY 3 W Bluetooth  Speaker\", \"Zebronics \\u00a0Zeb-County Bluetooth Speaker with Built-in F...\", \"hoatzin GT 112 IPX7 Waterproof Bluetooth Speaker with P...\", \"Impex Multimedia 5.1 (BRAVO) Bluetooth Home Theatre\", \"Zebronics BT4440 RUCF 60 Watt Bluetooth Home Theatre\", \"Zebronics ZEB-JellyFish Pro 73 W Bluetooth Home Theatre\", \"Ubon SP-6580 10 W Bluetooth  Speaker\", \"Philips BT2505B/94 7 W Bluetooth  Speaker\", \"Portronics Bounce POR-952 Portable Bluetooth Speaker wi...\", \"Zebronics Juke bar 9700 Dolby Atmos 450 W Bluetooth Sou...\", \"Ubon SP-70 Cool Bass 4.2 W Bluetooth Speaker 10 W Bluet...\", \"Philips HTL2060/94 60 W Bluetooth Soundbar\", \"Zebronics ZEB-COUNTY 3 W Bluetooth  Speaker\", \"Zebronics Zeb-Vita Plus 16 W Bluetooth Laptop/Desktop S...\", \"Blaupunkt SBW05 DOLBY Audio 160 W Bluetooth Soundbar\", \"Philips SPA4040B/94 45 W Bluetooth Home Theatre\", \"Artis BT-90 Wireless Portable Bluetooth Speaker With US...\", \"Ubon SP-6580 10 W Bluetooth  Speaker\", \"welltech New TG-113 Splashproof Portable Bluetooth Spea...\", \"WEBSTER sound Super Bass 10 W Bluetooth  Speaker\", \"Iball Soundwave 2.0 Multimedia Portable Laptop/Desktop ...\", \"Philips BT2505R/94 7 W Bluetooth  Speaker\", \"Ubon SP-6580 10 W Bluetooth  Speaker\", \"Mi Smart Speaker (with Google Assistant) Bluetooth Smar...\", \"Ubon SP-70 Cool Bass Portable Speaker Powered with 1600...\", \"Zebronics INDIE 105 W Bluetooth Home Theatre\", \"Creative Stage 160 W Bluetooth Soundbar\", \"Zebronics ZEB-WARRIOR 10 W Laptop/Desktop Speaker\", \"Ubon SP-180 Mobile Speaker 4 W Bluetooth  Speaker\", \"Ubon SP-70 Cool Bass 4.2 W Bluetooth Speaker 10 W Bluet...\", \"Zoook Boombox plus 32 W Portable Bluetooth Party Speake...\", \"F&D 203G 11 W Portable Laptop/Desktop Speaker\", \"Ubon SP-180 Mobile Speaker 4 W Bluetooth  Speaker\", \"Panasonic SC-NA07GW-A 10 W Bluetooth  Speaker\", \"F&D F 3800X 80 W Bluetooth Home Theatre\", \"boAt AAVANTE BAR 1150 60 W Bluetooth Soundbar\", \"Ubon SP-180 Mobile Speaker 4 W Bluetooth  Speaker\", \"Portronics POR-312 Pico 3 W Bluetooth  Speaker\", \"Obage DT-21 Avantis 50 W Bluetooth Tower Speaker\", \"wazny TG 005 Red Speaker Model No J005+Bl!uetooth Speak...\", \"Ubon SP-180 Mobile Speaker 4 W Bluetooth  Speaker\", \"Panasonic SC-NA07GW-W 10 W Bluetooth  Speaker\", \"Ubon SP-70 Cool Bass Portable Speaker Powered with 1600...\", \"Ubon SP-180 Mobile Speaker 4 W Bluetooth  Speaker\", \"Zebronics ZEB-WARRIOR 10 W Laptop/Desktop Speaker\", \"F&D W4 3 W Portable Bluetooth  Speaker\", \"T-Series Blast 10500X Multimedia Tower Speakers System ...\", \"F FERONS Mini DJ Sound boxBest Party Light Beat Blast H...\", \"Ubon SP-180 Mobile Speaker 4 W Bluetooth  Speaker\", \"F&D A111X 35 W Bluetooth Laptop/Desktop Speaker\", \"LG SNH5 600 W Bluetooth Soundbar\", \"Ubon SP-180 Mobile Speaker 4 W Bluetooth  Speaker\", \"Landmark Music Bar High Power Compact Soundbar with Mul...\", \"Zebronics ZEB-Juke Bar 9400 Pro Dolby 525 W Bluetooth S...\", \"Ubon SP-185 Built-in Fm/USB/TF-Card Player 10 W Bluetoo...\", \"Ambrane BT - 83 (Infinity 10W) 10 W Bluetooth  Speaker\", \"Ubon SP-180 Mobile Speaker 4 W Bluetooth  Speaker\", \"F&D E200 Portable Laptop/Desktop Speaker\", \"Wooky Wireless Bluetooth Portable Outdoor 5 W Bluetooth...\", \"Intex IT-XM BANG SUFB 54 W Bluetooth Home Theatre\", \"Buy Genuine Wireless LED Fire Flame Light Lamp 1500 W B...\", \"Panasonic SC-HT22GW-K 50 W Bluetooth Home Theatre\", \"JVC XS-N218BC 20 W Bluetooth Party Speaker\", \"Motorola AmphisoundX with HDMI ARC 100 W Bluetooth Soun...\", \"Blaupunkt BT-52 BK 10 Watt Bluetooth  Speaker\", \"Ubon SP-180 Mobile Speaker 4 W Bluetooth  Speaker\", \"Ambrane BT-47 5 W Bluetooth  Speaker\", \"Philips MMS2220B/94 120 W Bluetooth Home Theatre\", \"Flipkart SmartBuy 6W Powerful Bass Bluetooth Speaker\", \"Lenovo Smart Display 7 (with Google Assistant) Bluetoot...\", \"F FERONS J.B.L. Extra Beat Blast Sound Bluetooth Portab...\", \"Creative Stage Air 20 W Bluetooth Soundbar\", \"Ubon SP-180 Mobile Speaker 4 W Bluetooth  Speaker\", \"F FERONS Splash- Proof Speaker (Compatible with Mobile ...\", \"JBL Charge 4 IPX7 with In-Built Powerbank 30 W Portable...\", \"Philips MMS2580B/94 20 W Portable Bluetooth Home Theatr...\", \"F FERONS High Bass WS-887 Mini Bluetooth Speaker | Supe...\", \"wazny A005 3D SOUND blutooth speaker 5 W Bluetooth Spea...\", \"Zoook Rocker Thunder XL 50 W Bluetooth Party Speaker\", \"Zebronics Zeb - Wonderbar 10 10 W Laptop/Desktop Speake...\", \"Zebronics ZEB - SAMBA 105 Watt Bluetooth Home Theatre\", \"MarQ by Flipkart FS62LS 80 W Bluetooth Soundbar\", \"JBL Charge 4 IPX7 with In-Built Powerbank 30 W Portable...\", \"Motorola Sonic Boost 230 5 W Bluetooth  Speaker\", \"Ubon SP-180 Mobile Speaker 4 W Bluetooth  Speaker\", \"Ubon SP-180 Mobile Speaker 4 W Bluetooth  Speaker\", \"F&D F560 X Bluetooth Home Theatre\", \"Ubon SP-180 Mobile Speaker 4 W Bluetooth  Speaker\", \"Ant Audio ROCK 300 30 W Bluetooth Party Speaker\", \"boAt Stone 230 3 W Bluetooth  Speaker\", \"Ubon SP-180 Mobile Speaker 4 W Bluetooth  Speaker\", \"Sony MHC-V02 with LED Light & Karaoke Bluetooth Party S...\", \"F&D E200+ 5 W Portable Bluetooth Laptop/Desktop Speaker\", \"Obage DT 2425 70 W Bluetooth Tower Speaker\", \"Motorola AmphisoundX with HDMI Arc 120 W Bluetooth Home...\", \"Ubon SP-185 Built-in Fm/USB/TF-Card Player 10 W Bluetoo...\", \"PTron Fusion 10W Bluetooth Speaker 10 W Bluetooth  Spea...\", \"Saregama Carvaan Mini Kids 5 W Bluetooth  Speaker\", \"Mi (8 speaker drivers) Bluetooth Soundbar\", \"CZECH S-30HD50 WATT 4.1 (BT) HOME THEATER 50 W Bluetoot...\", \"boAt Stone 1050 20 W Bluetooth  Speaker\", \"JBL Go PLUS Portable Bluetooth  Speaker\", \"Omniversal TG006 Portable Bluetooth Speaker 125 W Bluet...\", \"Onix OHT 350 150 W Bluetooth Home Theatre\", \"Noise Vibe 5 W Bluetooth  Speaker\", \"JBL Go PLUS Portable Bluetooth  Speaker\", \"Philips MMS8085B/94 Convertible 80 W Bluetooth Home The...\", \"F FERONS 100% Best Quality Super Bass 3D Sound Wireless...\", \"JBL Go PLUS Portable Bluetooth  Speaker\", \"F&D T5 Trolley Speaker 33 W Bluetooth Party Speaker\", \"boAt Stone 1050 20 W Bluetooth  Speaker\", \"JBL Go PLUS Portable Bluetooth  Speaker\", \"Philips BT40 Portable Bluetooth Speaker\", \"Zoook Rocker Show Stopper 100 W Bluetooth Tower Speaker\", \"Mi Compact 2 W Bluetooth  Speaker\", \"JBL Go PLUS Portable Bluetooth  Speaker\", \"JBL Go PLUS Portable Bluetooth  Speaker\", \"LG LK72B XBOOM 40 W Bluetooth Home Theatre\", \"Panasonic SC-HTB250GWK Dolby Digital with Wireless Subw...\", \"Artis S21 5 W Laptop/Desktop Speaker\", \"JBL Go PLUS Portable Bluetooth  Speaker\", \"JBL Tuner Portable Bluetooth  Speaker\", \"F&D A110 Portable Laptop/Desktop Speaker\", \"JBL Go PLUS Portable Bluetooth  Speaker\", \"SULFUR Best Buy B.O.A.T Exclusive Portable Wireless Sou...\", \"JBL Xtreme Portable Bluetooth  Speaker\", \"JBL Go PLUS Portable Bluetooth  Speaker\", \"JBL Go2 Plus 3 W Bluetooth  Speaker\", \"boAt Stone 1050 20 W Bluetooth  Speaker\", \"JBL Flip 5 20 W Bluetooth  Speaker\", \"F FERONS High Sound TG-143 Woofer 2 Horn DJ Power boost...\", \"Noise Vibe 5 W Bluetooth  Speaker\", \"Philips MMS2260B/94 60 W Bluetooth Home Theatre\", \"F&D A180X 42 W Portable Bluetooth Home Theatre\", \"JBL Go PLUS Portable Bluetooth  Speaker\", \"JBL Go2 Plus 3 W Bluetooth  Speaker\", \"Portronics POR-737 Dynamo 5 W Bluetooth  Speaker\", \"F&D F7700X 80 W Bluetooth Home Theatre\", \"boAt Aavante Bar 1300 60 W Bluetooth Soundbar\", \"Zoook Rocker Herculean Pro 200 W Bluetooth Party Speake...\", \"Saregama Carvaan 2.0 (Emerald Green) 10 W Bluetooth Hom...\", \"JBL Go PLUS Portable Bluetooth  Speaker\", \"Soundcore Motion B 12 W Bluetooth  Speaker\", \"Whelked Mini Music Bulb Heavy Bass Light Speaker 5 W Bl...\", \"Zebronics Zeb-Juke Bar 9000 Pro Dolby 120 W Bluetooth S...\", \"SR Sarthak Royal Portable Bluetooth Speakers 10 W Bluet...\", \"boAt Stone Grenade 5 W Portable Bluetooth  Speaker\", \"JBL Go PLUS Portable Bluetooth  Speaker\", \"Bose Solo 5 Bluetooth Soundbar\", \"Worricow Led Bulb Bluetooth Home Speaker With USB Funct...\", \"boAt Stone 210 3 W Bluetooth  Speaker\", \"Panasonic SC-HT40GW-K 80 W Bluetooth Home Theatre\", \"Philips MMS6080B/94 60 W Portable Bluetooth Laptop/Desk...\", \"JBL Go PLUS Portable Bluetooth  Speaker\", \"Sony SRS-XB12 10 W Bluetooth  Speaker\", \"Huawei Mini Speaker CM510 3 W Bluetooth  Speaker\", \"Portronics POR-891_Pure Sound PRO-3 Speaker 10 W Blueto...\", \"F&D F5060X 135 W Bluetooth Home Theatre\", \"JBL Go PLUS Portable Bluetooth  Speaker\", \"Sony SRS-XB12 10 W Bluetooth  Speaker\", \"F&D F6000X 135 W Bluetooth Home Theatre\", \"JBL Go PLUS Portable Bluetooth  Speaker\", \"JBL Flip 5 20 W Bluetooth  Speaker\", \"Croma Bluetooth Speaker With Hook CRER2107 2 W Bluetoot...\", \"Sony SRS-XB12 10 W Bluetooth  Speaker\", \"boAt Stone 1050 20 W Bluetooth  Speaker\", \"JBL Go2 Plus 3 W Bluetooth  Speaker\", \"Omniversal TG006 rending Woofer Dual Horn Dj Power boos...\", \"Harman Kardon Onyx Studio 5 Bluetooth  Speaker\", \"Obage HT-101 Bluetooth Home Theatre\", \"boAt Stone 1050 20 W Bluetooth  Speaker\", \"boAt PartyPal 60 20 W Bluetooth Party Speaker\", \"Zebronics Zeb-Juke Bar 6000DWS-Pro 160 W Bluetooth Soun...\", \"LINCTECH Dancing Flame HD Audio Blutooth Speaker 15 W B...\", \"Sony SRS-XB12 10 W Bluetooth  Speaker\", \"Noise Vibe 5 W Bluetooth  Speaker\", \"Obage DT-2605 Dual Tower Speakers with Bluetooth,FM and...\", \"Infinity INFOCB410BLK 220 W Bluetooth Home Theatre\", \"boAt PartyPal 20 15 W Bluetooth Party Speaker\", \"Mivi Roam2 5 W Bluetooth  Speaker\", \"boAt Stone 260 4 W Portable Bluetooth  Speaker\", \"ALLMUSIC Dj Sound Power boost high sound blast with ult...\", \"Sony SRS-XB33 Bluetooth  Speaker\", \"boAt Aavante Bar 1550 120 W Bluetooth Soundbar\", \"boAt Stone 190F 5 W Bluetooth  Speaker\", \"boAt Stone 190F 5 W Bluetooth  Speaker\", \"JBL Flip 3 Splashproof 16 W Portable Bluetooth  Speaker\", \"JBL GO2 Portable Bluetooth  Speaker\", \"pinaaki Like J.B_L Beat Blast DJ Power Boost High sound...\", \"F&D PA926 60 W Bluetooth Party Speaker\", \"boAt Aavante Bar 2000 160 W Bluetooth Soundbar\", \"Soundcore Rave Neo 50 W Bluetooth Home Theatre\", \"Thomson Boombox BBX03 With TWS 35 W Bluetooth Home Thea...\", \"Google Home Mini Bluetooth Smart Speaker\", \"boAt Stone 190F 5 W Bluetooth  Speaker\", \"boAt Stone 190F 5 W Bluetooth  Speaker\", \"JBL GO2 Portable Bluetooth  Speaker\", \"YODNSO 100% GOOD QUALITY BOOM-BOX Bluetooth Wireless Sp...\", \"JBL PROFESSIONAL EON ONE Compact Battery-Powered 4 Chan...\", \"Portronics SoundDrum POR871 10 W Bluetooth  Speaker\", \"Wolgite WS-887 Speaker ,Traveling Speaker, J@B$L Speake...\", \"Google Home Mini Bluetooth Smart Speaker\", \"Zebronics Zeb-Sound Feast 50 14 W Bluetooth  Speaker\", \"Google Home Mini Bluetooth Smart Speaker\", \"JBL Flip 4 16 W Portable Bluetooth  Speaker\", \"Zebronics ZEB - JUKE BAR 3500 60 W Bluetooth Soundbar\", \"boAt Stone 190F 5 W Bluetooth  Speaker\", \"JBL GO2 Portable Bluetooth  Speaker\", \"F&D PA924 40 W Bluetooth Party Speaker\", \"boAt Stone 190F 5 W Bluetooth  Speaker\", \"Marshall Acton II 60 W Bluetooth  Speaker\", \"boAt Stone 190F 5 W Bluetooth  Speaker\", \"boAt Stone 300 5 W Bluetooth  Speaker\", \"JBL CLIP 3 Portable Bluetooth  Speaker\", \"CRETO Hs-4222 Portable Wireless Bluetooth Speaker Suppo...\", \"boAt Stone 300 5 W Bluetooth  Speaker\", \"Sony HT-S20R Dolby Digital 400 W Bluetooth Soundbar\", \"Portronics SoundDrum POR547 10 W Bluetooth  Speaker\", \"JBL Flip 4 16 W Portable Bluetooth  Speaker\", \"boAt Aavante Bar 120 W Bluetooth Soundbar\", \"boAt Stone 190F 5 W Bluetooth  Speaker\", \"boAt Stone 650 10 W Bluetooth  Speaker\", \"JBL CLIP 3 Portable Bluetooth  Speaker\", \"Terabyte E-02B Speaker 4 W Laptop/Desktop Speaker\", \"boAt Stone 260 4 W Portable Bluetooth  Speaker\", \"boAt Stone 300 5 W Bluetooth  Speaker\", \"JBL CLIP 3 Portable Bluetooth  Speaker\", \"Sony MHC-V21D with DJ Effects & Karaoke Bluetooth Party...\", \"Sony SA-D20 60 W Bluetooth Home Theatre\", \"JBL CLIP 3 Portable Bluetooth  Speaker\", \"QPIZ WS-887 5 W Bluetooth  Speaker\", \"Sony SA-D40 80 W Bluetooth Home Theatre\", \"JBL Flip 3 Splashproof 16 W Portable Bluetooth  Speaker\", \"boAt Stone 1500 40 W Bluetooth  Speaker\", \"JBL Pulse 4 20 W Bluetooth  Speaker\", \"ALLMUSIC Dj Sound Power boost high sound blast with ult...\", \"Portronics POR-549 ROAR 24 W Bluetooth Party Speaker\", \"Google Nest Audio Bluetooth Smart Speaker\", \"JBL Party Box 300 Bluetooth Party Speaker\", \"Saregama SC01 / SC03 / SC04 6 W Bluetooth Home Theatre\", \"Google Nest Audio Bluetooth Smart Speaker\", \"JBL Boombox Bluetooth Party Speaker\", \"JBL Flip Essential IPX7 Waterproof 16 W Bluetooth  Spea...\", \"boAt Stone 1000 14 W Portable Bluetooth  Speaker\", \"boAt Stone 1500 40 W Bluetooth  Speaker\", \"Bose Home Speaker 300 Bluetooth  Speaker\", \"Apple HomePod Mini Smart Speaker\", \"JBL Party Box 100 Portable 160 W Bluetooth Party Speake...\", \"Sony MHC-V13 Bluetooth Tower Speaker\", \"Sony MHC-V72D with Party Lights & Karaoke Bluetooth Par...\", \"Tankit Murli Smart Bluetooth Speaker Led Bulb 2 W Bluet...\", \"LG XBOOM GO PL7 30 W Bluetooth  Speaker\", \"Apple HomePod Bluetooth Smart Speaker\", \"Bose Soundlink Micro Portable Bluetooth  Speaker\", \"Lehza PERFECT HIGH QUALITY SOUND SPEAKER Portable Wirel...\", \"Intex Beast 601 10 W Bluetooth  Speaker\", \"Apple HomePod Bluetooth Smart Speaker\", \"Marshall Stanmore II 80 W Bluetooth  Speaker\", \"F FERONS 100% Branded Splash proof Portable Splash proo...\", \"Lehza PERFECT HIGH QUALITY SOUND SPEAKER Portable Wirel...\", \"TEKNO 2 in 1 function bulb speaker 5 W Bluetooth  Speak...\", \"AUDIOEX FM/USB/TF/AUX/TWS 3 W Bluetooth  Speaker\", \"Obage HT-303 50 W Bluetooth Home Theatre\", \"FPX Twist RGB Lighting Wireless Portable Bluetooth Spea...\", \"Intex Beast 101+ 5 W Bluetooth  Speaker\", \"FPX Twist RGB Lighting Wireless Portable Bluetooth Spea...\", \"techobucks TG113 Super Deep Bass Splashproof DJ Sound W...\", \"CASADOMANI Stylish Impressive Design MG2 3D Dynamic Sou...\", \"Intex Beast 801 10 W Bluetooth  Speaker\", \"Intex Beast 801 10 W Bluetooth  Speaker\", \"BUY SURETY M99 Portable Wireless Bluetooth Speaker with...\", \"F FERONS 100% Best Quality |3D sound| Splashproof| Wate...\", \"OBDIR Brand New J.B.L Bluetooth Speaker |Ultra Powerful...\", \"CASADOMANI Stylish Impressive Design MG2 3D Dynamic Sou...\", \"KLUZIE Brand New | J.B.L Speakers|Colur changing disco ...\"], \"legendgroup\": \"\", \"line\": {\"color\": \"#636efa\", \"dash\": \"solid\"}, \"mode\": \"lines\", \"name\": \"\", \"showlegend\": false, \"type\": \"scatter\", \"x\": [0.0, 0.0, 0.0, 0.0, 0.0, 0.0, 0.0, 0.0, 0.0, 0.0, 0.0, 0.0, 0.0, 0.0, 0.0, 0.0, 0.0, 0.0, 0.0, 0.0, 3.0, 3.0, 3.0, 3.1, 3.1, 3.2, 3.2, 3.2, 3.2, 3.2, 3.2, 3.3, 3.4, 3.4, 3.4, 3.4, 3.4, 3.4, 3.4, 3.4, 3.4, 3.4, 3.4, 3.4, 3.4, 3.4, 3.4, 3.4, 3.4, 3.4, 3.4, 3.4, 3.4, 3.4, 3.4, 3.4, 3.4, 3.4, 3.5, 3.5, 3.5, 3.5, 3.5, 3.5, 3.5, 3.5, 3.5, 3.5, 3.5, 3.6, 3.6, 3.6, 3.6, 3.6, 3.6, 3.6, 3.6, 3.6, 3.6, 3.6, 3.6, 3.6, 3.6, 3.6, 3.6, 3.6, 3.6, 3.6, 3.6, 3.6, 3.6, 3.6, 3.6, 3.6, 3.7, 3.7, 3.7, 3.7, 3.7, 3.7, 3.7, 3.7, 3.7, 3.7, 3.7, 3.7, 3.7, 3.7, 3.7, 3.7, 3.7, 3.7, 3.7, 3.7, 3.7, 3.7, 3.7, 3.7, 3.7, 3.7, 3.7, 3.7, 3.7, 3.7, 3.7, 3.7, 3.7, 3.7, 3.7, 3.7, 3.7, 3.8, 3.8, 3.8, 3.8, 3.8, 3.8, 3.8, 3.8, 3.8, 3.8, 3.8, 3.8, 3.8, 3.8, 3.8, 3.8, 3.8, 3.8, 3.8, 3.8, 3.8, 3.8, 3.8, 3.8, 3.8, 3.8, 3.8, 3.8, 3.8, 3.8, 3.8, 3.8, 3.8, 3.8, 3.8, 3.8, 3.8, 3.8, 3.8, 3.8, 3.8, 3.8, 3.8, 3.8, 3.8, 3.8, 3.8, 3.8, 3.8, 3.8, 3.8, 3.8, 3.8, 3.8, 3.8, 3.8, 3.8, 3.8, 3.8, 3.8, 3.8, 3.8, 3.8, 3.8, 3.8, 3.8, 3.8, 3.8, 3.8, 3.8, 3.9, 3.9, 3.9, 3.9, 3.9, 3.9, 3.9, 3.9, 3.9, 3.9, 3.9, 3.9, 3.9, 3.9, 3.9, 3.9, 3.9, 3.9, 3.9, 3.9, 3.9, 3.9, 3.9, 3.9, 3.9, 3.9, 3.9, 3.9, 3.9, 3.9, 3.9, 3.9, 3.9, 3.9, 3.9, 3.9, 3.9, 3.9, 3.9, 3.9, 3.9, 3.9, 3.9, 3.9, 3.9, 3.9, 3.9, 3.9, 3.9, 3.9, 3.9, 3.9, 3.9, 3.9, 3.9, 3.9, 3.9, 3.9, 3.9, 3.9, 3.9, 3.9, 3.9, 3.9, 3.9, 3.9, 3.9, 3.9, 3.9, 3.9, 3.9, 3.9, 3.9, 3.9, 3.9, 3.9, 3.9, 3.9, 3.9, 3.9, 3.9, 3.9, 3.9, 3.9, 3.9, 3.9, 3.9, 3.9, 3.9, 3.9, 3.9, 3.9, 3.9, 3.9, 3.9, 3.9, 3.9, 3.9, 3.9, 3.9, 3.9, 3.9, 3.9, 3.9, 3.9, 3.9, 3.9, 3.9, 4.0, 4.0, 4.0, 4.0, 4.0, 4.0, 4.0, 4.0, 4.0, 4.0, 4.0, 4.0, 4.0, 4.0, 4.0, 4.0, 4.0, 4.0, 4.0, 4.0, 4.0, 4.0, 4.0, 4.0, 4.0, 4.0, 4.0, 4.0, 4.0, 4.0, 4.0, 4.0, 4.0, 4.0, 4.0, 4.0, 4.0, 4.0, 4.0, 4.0, 4.0, 4.0, 4.0, 4.0, 4.0, 4.0, 4.0, 4.0, 4.0, 4.0, 4.0, 4.0, 4.0, 4.0, 4.0, 4.0, 4.0, 4.0, 4.0, 4.0, 4.0, 4.0, 4.0, 4.0, 4.0, 4.0, 4.0, 4.0, 4.0, 4.0, 4.0, 4.0, 4.0, 4.0, 4.0, 4.0, 4.0, 4.0, 4.0, 4.0, 4.0, 4.0, 4.0, 4.0, 4.0, 4.0, 4.0, 4.0, 4.0, 4.1, 4.1, 4.1, 4.1, 4.1, 4.1, 4.1, 4.1, 4.1, 4.1, 4.1, 4.1, 4.1, 4.1, 4.1, 4.1, 4.1, 4.1, 4.1, 4.1, 4.1, 4.1, 4.1, 4.1, 4.1, 4.1, 4.1, 4.1, 4.1, 4.1, 4.1, 4.1, 4.1, 4.1, 4.1, 4.1, 4.1, 4.1, 4.1, 4.1, 4.1, 4.1, 4.1, 4.1, 4.1, 4.1, 4.1, 4.1, 4.1, 4.1, 4.1, 4.1, 4.1, 4.1, 4.1, 4.1, 4.1, 4.1, 4.1, 4.1, 4.1, 4.1, 4.1, 4.1, 4.1, 4.1, 4.1, 4.1, 4.1, 4.1, 4.2, 4.2, 4.2, 4.2, 4.2, 4.2, 4.2, 4.2, 4.2, 4.2, 4.2, 4.2, 4.2, 4.2, 4.2, 4.2, 4.2, 4.2, 4.2, 4.2, 4.2, 4.2, 4.2, 4.2, 4.2, 4.2, 4.2, 4.2, 4.2, 4.2, 4.2, 4.2, 4.2, 4.2, 4.2, 4.2, 4.2, 4.2, 4.2, 4.2, 4.2, 4.2, 4.2, 4.2, 4.2, 4.2, 4.2, 4.2, 4.2, 4.2, 4.2, 4.2, 4.2, 4.2, 4.2, 4.2, 4.2, 4.2, 4.2, 4.2, 4.2, 4.2, 4.2, 4.2, 4.2, 4.2, 4.2, 4.2, 4.2, 4.2, 4.2, 4.2, 4.2, 4.3, 4.3, 4.3, 4.3, 4.3, 4.3, 4.3, 4.3, 4.3, 4.3, 4.3, 4.3, 4.3, 4.3, 4.3, 4.3, 4.3, 4.3, 4.3, 4.3, 4.3, 4.3, 4.3, 4.3, 4.3, 4.3, 4.3, 4.3, 4.3, 4.3, 4.3, 4.3, 4.3, 4.3, 4.3, 4.3, 4.3, 4.3, 4.3, 4.3, 4.3, 4.3, 4.3, 4.3, 4.3, 4.3, 4.3, 4.3, 4.3, 4.3, 4.3, 4.3, 4.3, 4.3, 4.3, 4.3, 4.3, 4.3, 4.3, 4.3, 4.3, 4.3, 4.3, 4.3, 4.3, 4.3, 4.3, 4.3, 4.3, 4.3, 4.3, 4.3, 4.3, 4.3, 4.3, 4.3, 4.3, 4.3, 4.3, 4.3, 4.4, 4.4, 4.4, 4.4, 4.4, 4.4, 4.4, 4.4, 4.4, 4.4, 4.4, 4.4, 4.4, 4.4, 4.4, 4.4, 4.4, 4.4, 4.4, 4.4, 4.4, 4.4, 4.4, 4.4, 4.4, 4.4, 4.4, 4.4, 4.4, 4.4, 4.4, 4.4, 4.4, 4.4, 4.4, 4.4, 4.4, 4.4, 4.4, 4.4, 4.4, 4.4, 4.4, 4.4, 4.4, 4.4, 4.4, 4.4, 4.4, 4.4, 4.4, 4.4, 4.4, 4.4, 4.4, 4.4, 4.4, 4.5, 4.5, 4.5, 4.5, 4.5, 4.5, 4.5, 4.5, 4.5, 4.5, 4.5, 4.5, 4.6, 4.6, 4.6, 4.6, 4.6, 4.6, 4.7, 4.7, 4.7, 4.7, 4.7, 4.7, 4.7, 4.7, 4.7, 4.7, 4.8, 4.8, 4.8, 4.8, 4.8, 4.9, 5.0, 5.0, 5.0, 5.0, 5.0, 5.0, 5.0, 5.0], \"xaxis\": \"x\", \"yaxis\": \"y\"}],\n",
              "                        {\"legend\": {\"tracegroupgap\": 0}, \"margin\": {\"t\": 60}, \"template\": {\"data\": {\"bar\": [{\"error_x\": {\"color\": \"#2a3f5f\"}, \"error_y\": {\"color\": \"#2a3f5f\"}, \"marker\": {\"line\": {\"color\": \"#E5ECF6\", \"width\": 0.5}}, \"type\": \"bar\"}], \"barpolar\": [{\"marker\": {\"line\": {\"color\": \"#E5ECF6\", \"width\": 0.5}}, \"type\": \"barpolar\"}], \"carpet\": [{\"aaxis\": {\"endlinecolor\": \"#2a3f5f\", \"gridcolor\": \"white\", \"linecolor\": \"white\", \"minorgridcolor\": \"white\", \"startlinecolor\": \"#2a3f5f\"}, \"baxis\": {\"endlinecolor\": \"#2a3f5f\", \"gridcolor\": \"white\", \"linecolor\": \"white\", \"minorgridcolor\": \"white\", \"startlinecolor\": \"#2a3f5f\"}, \"type\": \"carpet\"}], \"choropleth\": [{\"colorbar\": {\"outlinewidth\": 0, \"ticks\": \"\"}, \"type\": \"choropleth\"}], \"contour\": [{\"colorbar\": {\"outlinewidth\": 0, \"ticks\": \"\"}, \"colorscale\": [[0.0, \"#0d0887\"], [0.1111111111111111, \"#46039f\"], [0.2222222222222222, \"#7201a8\"], [0.3333333333333333, \"#9c179e\"], [0.4444444444444444, \"#bd3786\"], [0.5555555555555556, \"#d8576b\"], [0.6666666666666666, \"#ed7953\"], [0.7777777777777778, \"#fb9f3a\"], [0.8888888888888888, \"#fdca26\"], [1.0, \"#f0f921\"]], \"type\": \"contour\"}], \"contourcarpet\": [{\"colorbar\": {\"outlinewidth\": 0, \"ticks\": \"\"}, \"type\": \"contourcarpet\"}], \"heatmap\": [{\"colorbar\": {\"outlinewidth\": 0, \"ticks\": \"\"}, \"colorscale\": [[0.0, \"#0d0887\"], [0.1111111111111111, \"#46039f\"], [0.2222222222222222, \"#7201a8\"], [0.3333333333333333, \"#9c179e\"], [0.4444444444444444, \"#bd3786\"], [0.5555555555555556, \"#d8576b\"], [0.6666666666666666, \"#ed7953\"], [0.7777777777777778, \"#fb9f3a\"], [0.8888888888888888, \"#fdca26\"], [1.0, \"#f0f921\"]], \"type\": \"heatmap\"}], \"heatmapgl\": [{\"colorbar\": {\"outlinewidth\": 0, \"ticks\": \"\"}, \"colorscale\": [[0.0, \"#0d0887\"], [0.1111111111111111, \"#46039f\"], [0.2222222222222222, \"#7201a8\"], [0.3333333333333333, \"#9c179e\"], [0.4444444444444444, \"#bd3786\"], [0.5555555555555556, \"#d8576b\"], [0.6666666666666666, \"#ed7953\"], [0.7777777777777778, \"#fb9f3a\"], [0.8888888888888888, \"#fdca26\"], [1.0, \"#f0f921\"]], \"type\": \"heatmapgl\"}], \"histogram\": [{\"marker\": {\"colorbar\": {\"outlinewidth\": 0, \"ticks\": \"\"}}, \"type\": \"histogram\"}], \"histogram2d\": [{\"colorbar\": {\"outlinewidth\": 0, \"ticks\": \"\"}, \"colorscale\": [[0.0, \"#0d0887\"], [0.1111111111111111, \"#46039f\"], [0.2222222222222222, \"#7201a8\"], [0.3333333333333333, \"#9c179e\"], [0.4444444444444444, \"#bd3786\"], [0.5555555555555556, \"#d8576b\"], [0.6666666666666666, \"#ed7953\"], [0.7777777777777778, \"#fb9f3a\"], [0.8888888888888888, \"#fdca26\"], [1.0, \"#f0f921\"]], \"type\": \"histogram2d\"}], \"histogram2dcontour\": [{\"colorbar\": {\"outlinewidth\": 0, \"ticks\": \"\"}, \"colorscale\": [[0.0, \"#0d0887\"], [0.1111111111111111, \"#46039f\"], [0.2222222222222222, \"#7201a8\"], [0.3333333333333333, \"#9c179e\"], [0.4444444444444444, \"#bd3786\"], [0.5555555555555556, \"#d8576b\"], [0.6666666666666666, \"#ed7953\"], [0.7777777777777778, \"#fb9f3a\"], [0.8888888888888888, \"#fdca26\"], [1.0, \"#f0f921\"]], \"type\": \"histogram2dcontour\"}], \"mesh3d\": [{\"colorbar\": {\"outlinewidth\": 0, \"ticks\": \"\"}, \"type\": \"mesh3d\"}], \"parcoords\": [{\"line\": {\"colorbar\": {\"outlinewidth\": 0, \"ticks\": \"\"}}, \"type\": \"parcoords\"}], \"pie\": [{\"automargin\": true, \"type\": \"pie\"}], \"scatter\": [{\"marker\": {\"colorbar\": {\"outlinewidth\": 0, \"ticks\": \"\"}}, \"type\": \"scatter\"}], \"scatter3d\": [{\"line\": {\"colorbar\": {\"outlinewidth\": 0, \"ticks\": \"\"}}, \"marker\": {\"colorbar\": {\"outlinewidth\": 0, \"ticks\": \"\"}}, \"type\": \"scatter3d\"}], \"scattercarpet\": [{\"marker\": {\"colorbar\": {\"outlinewidth\": 0, \"ticks\": \"\"}}, \"type\": \"scattercarpet\"}], \"scattergeo\": [{\"marker\": {\"colorbar\": {\"outlinewidth\": 0, \"ticks\": \"\"}}, \"type\": \"scattergeo\"}], \"scattergl\": [{\"marker\": {\"colorbar\": {\"outlinewidth\": 0, \"ticks\": \"\"}}, \"type\": \"scattergl\"}], \"scattermapbox\": [{\"marker\": {\"colorbar\": {\"outlinewidth\": 0, \"ticks\": \"\"}}, \"type\": \"scattermapbox\"}], \"scatterpolar\": [{\"marker\": {\"colorbar\": {\"outlinewidth\": 0, \"ticks\": \"\"}}, \"type\": \"scatterpolar\"}], \"scatterpolargl\": [{\"marker\": {\"colorbar\": {\"outlinewidth\": 0, \"ticks\": \"\"}}, \"type\": \"scatterpolargl\"}], \"scatterternary\": [{\"marker\": {\"colorbar\": {\"outlinewidth\": 0, \"ticks\": \"\"}}, \"type\": \"scatterternary\"}], \"surface\": [{\"colorbar\": {\"outlinewidth\": 0, \"ticks\": \"\"}, \"colorscale\": [[0.0, \"#0d0887\"], [0.1111111111111111, \"#46039f\"], [0.2222222222222222, \"#7201a8\"], [0.3333333333333333, \"#9c179e\"], [0.4444444444444444, \"#bd3786\"], [0.5555555555555556, \"#d8576b\"], [0.6666666666666666, \"#ed7953\"], [0.7777777777777778, \"#fb9f3a\"], [0.8888888888888888, \"#fdca26\"], [1.0, \"#f0f921\"]], \"type\": \"surface\"}], \"table\": [{\"cells\": {\"fill\": {\"color\": \"#EBF0F8\"}, \"line\": {\"color\": \"white\"}}, \"header\": {\"fill\": {\"color\": \"#C8D4E3\"}, \"line\": {\"color\": \"white\"}}, \"type\": \"table\"}]}, \"layout\": {\"annotationdefaults\": {\"arrowcolor\": \"#2a3f5f\", \"arrowhead\": 0, \"arrowwidth\": 1}, \"coloraxis\": {\"colorbar\": {\"outlinewidth\": 0, \"ticks\": \"\"}}, \"colorscale\": {\"diverging\": [[0, \"#8e0152\"], [0.1, \"#c51b7d\"], [0.2, \"#de77ae\"], [0.3, \"#f1b6da\"], [0.4, \"#fde0ef\"], [0.5, \"#f7f7f7\"], [0.6, \"#e6f5d0\"], [0.7, \"#b8e186\"], [0.8, \"#7fbc41\"], [0.9, \"#4d9221\"], [1, \"#276419\"]], \"sequential\": [[0.0, \"#0d0887\"], [0.1111111111111111, \"#46039f\"], [0.2222222222222222, \"#7201a8\"], [0.3333333333333333, \"#9c179e\"], [0.4444444444444444, \"#bd3786\"], [0.5555555555555556, \"#d8576b\"], [0.6666666666666666, \"#ed7953\"], [0.7777777777777778, \"#fb9f3a\"], [0.8888888888888888, \"#fdca26\"], [1.0, \"#f0f921\"]], \"sequentialminus\": [[0.0, \"#0d0887\"], [0.1111111111111111, \"#46039f\"], [0.2222222222222222, \"#7201a8\"], [0.3333333333333333, \"#9c179e\"], [0.4444444444444444, \"#bd3786\"], [0.5555555555555556, \"#d8576b\"], [0.6666666666666666, \"#ed7953\"], [0.7777777777777778, \"#fb9f3a\"], [0.8888888888888888, \"#fdca26\"], [1.0, \"#f0f921\"]]}, \"colorway\": [\"#636efa\", \"#EF553B\", \"#00cc96\", \"#ab63fa\", \"#FFA15A\", \"#19d3f3\", \"#FF6692\", \"#B6E880\", \"#FF97FF\", \"#FECB52\"], \"font\": {\"color\": \"#2a3f5f\"}, \"geo\": {\"bgcolor\": \"white\", \"lakecolor\": \"white\", \"landcolor\": \"#E5ECF6\", \"showlakes\": true, \"showland\": true, \"subunitcolor\": \"white\"}, \"hoverlabel\": {\"align\": \"left\"}, \"hovermode\": \"closest\", \"mapbox\": {\"style\": \"light\"}, \"paper_bgcolor\": \"white\", \"plot_bgcolor\": \"#E5ECF6\", \"polar\": {\"angularaxis\": {\"gridcolor\": \"white\", \"linecolor\": \"white\", \"ticks\": \"\"}, \"bgcolor\": \"#E5ECF6\", \"radialaxis\": {\"gridcolor\": \"white\", \"linecolor\": \"white\", \"ticks\": \"\"}}, \"scene\": {\"xaxis\": {\"backgroundcolor\": \"#E5ECF6\", \"gridcolor\": \"white\", \"gridwidth\": 2, \"linecolor\": \"white\", \"showbackground\": true, \"ticks\": \"\", \"zerolinecolor\": \"white\"}, \"yaxis\": {\"backgroundcolor\": \"#E5ECF6\", \"gridcolor\": \"white\", \"gridwidth\": 2, \"linecolor\": \"white\", \"showbackground\": true, \"ticks\": \"\", \"zerolinecolor\": \"white\"}, \"zaxis\": {\"backgroundcolor\": \"#E5ECF6\", \"gridcolor\": \"white\", \"gridwidth\": 2, \"linecolor\": \"white\", \"showbackground\": true, \"ticks\": \"\", \"zerolinecolor\": \"white\"}}, \"shapedefaults\": {\"line\": {\"color\": \"#2a3f5f\"}}, \"ternary\": {\"aaxis\": {\"gridcolor\": \"white\", \"linecolor\": \"white\", \"ticks\": \"\"}, \"baxis\": {\"gridcolor\": \"white\", \"linecolor\": \"white\", \"ticks\": \"\"}, \"bgcolor\": \"#E5ECF6\", \"caxis\": {\"gridcolor\": \"white\", \"linecolor\": \"white\", \"ticks\": \"\"}}, \"title\": {\"x\": 0.05}, \"xaxis\": {\"automargin\": true, \"gridcolor\": \"white\", \"linecolor\": \"white\", \"ticks\": \"\", \"title\": {\"standoff\": 15}, \"zerolinecolor\": \"white\", \"zerolinewidth\": 2}, \"yaxis\": {\"automargin\": true, \"gridcolor\": \"white\", \"linecolor\": \"white\", \"ticks\": \"\", \"title\": {\"standoff\": 15}, \"zerolinecolor\": \"white\", \"zerolinewidth\": 2}}}, \"xaxis\": {\"anchor\": \"y\", \"domain\": [0.0, 1.0], \"title\": {\"text\": \"rating\"}}, \"yaxis\": {\"anchor\": \"x\", \"domain\": [0.0, 1.0]}},\n",
              "                        {\"responsive\": true}\n",
              "                    ).then(function(){\n",
              "                            \n",
              "var gd = document.getElementById('a949db98-587f-4e34-afbd-c80aa668fc4c');\n",
              "var x = new MutationObserver(function (mutations, observer) {{\n",
              "        var display = window.getComputedStyle(gd).display;\n",
              "        if (!display || display === 'none') {{\n",
              "            console.log([gd, 'removed!']);\n",
              "            Plotly.purge(gd);\n",
              "            observer.disconnect();\n",
              "        }}\n",
              "}});\n",
              "\n",
              "// Listen for the removal of the full notebook cells\n",
              "var notebookContainer = gd.closest('#notebook-container');\n",
              "if (notebookContainer) {{\n",
              "    x.observe(notebookContainer, {childList: true});\n",
              "}}\n",
              "\n",
              "// Listen for the clearing of the current output cell\n",
              "var outputEl = gd.closest('.output');\n",
              "if (outputEl) {{\n",
              "    x.observe(outputEl, {childList: true});\n",
              "}}\n",
              "\n",
              "                        })\n",
              "                };\n",
              "                \n",
              "            </script>\n",
              "        </div>\n",
              "</body>\n",
              "</html>"
            ]
          },
          "metadata": {
            "tags": []
          }
        }
      ]
    },
    {
      "cell_type": "code",
      "metadata": {
        "id": "0enzj2MaZZqz"
      },
      "source": [
        ""
      ],
      "execution_count": null,
      "outputs": []
    }
  ]
}